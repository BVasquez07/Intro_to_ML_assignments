{
 "cells": [
  {
   "cell_type": "markdown",
   "metadata": {},
   "source": [
    "# Brandon Vasquez\n",
    "\n",
    "### The following work was done without collaboration from other peers within the class but with aid from the SciKit library documentation page for the various methods, variables, and functions used.\n",
    "\n",
    "## Sources used (among the documentation of the various libraries included):\n",
    "* [Plot multi-class SGD on the iris dataset from SciKit Documentation](https://scikit-learn.org/stable/auto_examples/linear_model/plot_sgd_iris.html)\n",
    "* [Basically what we have to do...but for the SVM classifier](https://scikit-learn.org/stable/auto_examples/svm/plot_iris_svc.html)\n",
    "\n"
   ]
  },
  {
   "cell_type": "code",
   "execution_count": 188,
   "metadata": {
    "tags": []
   },
   "outputs": [],
   "source": [
    "from sklearn.pipeline import make_pipeline\n",
    "from sklearn.preprocessing import StandardScaler\n",
    "from sklearn import datasets\n",
    "from sklearn.svm import SVC\n",
    "from sklearn.linear_model import SGDClassifier, LogisticRegression\n",
    "from sklearn.inspection import DecisionBoundaryDisplay\n",
    "from sklearn.model_selection import train_test_split\n",
    "from sklearn.tree import DecisionTreeClassifier\n",
    "from sklearn.ensemble import RandomForestClassifier\n",
    "from sklearn.neighbors import KNeighborsClassifier\n",
    "import numpy as np\n",
    "import pandas as pd\n",
    "import matplotlib.pyplot as plt\n",
    "from pathlib import Path\n",
    "from sklearn.metrics import accuracy_score"
   ]
  },
  {
   "cell_type": "code",
   "execution_count": 189,
   "metadata": {
    "tags": []
   },
   "outputs": [
    {
     "name": "stdout",
     "output_type": "stream",
     "text": [
      "<class 'pandas.core.frame.DataFrame'>         Sepal Length  Sepal Width  Petal Length  Petal Width\n",
      "setosa           5.1          3.5           1.4          0.2\n",
      "setosa           4.9          3.0           1.4          0.2\n",
      "setosa           4.7          3.2           1.3          0.2\n",
      "setosa           4.6          3.1           1.5          0.2\n",
      "setosa           5.0          3.6           1.4          0.2\n",
      "setosa           5.4          3.9           1.7          0.4\n",
      "setosa           4.6          3.4           1.4          0.3\n",
      "setosa           5.0          3.4           1.5          0.2\n",
      "setosa           4.4          2.9           1.4          0.2\n",
      "setosa           4.9          3.1           1.5          0.1\n",
      "['setosa' 'setosa' 'setosa' 'setosa' 'setosa' 'setosa' 'setosa' 'setosa'\n",
      " 'setosa' 'setosa' 'setosa' 'setosa' 'setosa' 'setosa' 'setosa' 'setosa'\n",
      " 'setosa' 'setosa' 'setosa' 'setosa' 'setosa' 'setosa' 'setosa' 'setosa'\n",
      " 'setosa' 'setosa' 'setosa' 'setosa' 'setosa' 'setosa' 'setosa' 'setosa'\n",
      " 'setosa' 'setosa' 'setosa' 'setosa' 'setosa' 'setosa' 'setosa' 'setosa'\n",
      " 'setosa' 'setosa' 'setosa' 'setosa' 'setosa' 'setosa' 'setosa' 'setosa'\n",
      " 'setosa' 'setosa' 'versicolor' 'versicolor' 'versicolor' 'versicolor'\n",
      " 'versicolor' 'versicolor' 'versicolor' 'versicolor' 'versicolor'\n",
      " 'versicolor' 'versicolor' 'versicolor' 'versicolor' 'versicolor'\n",
      " 'versicolor' 'versicolor' 'versicolor' 'versicolor' 'versicolor'\n",
      " 'versicolor' 'versicolor' 'versicolor' 'versicolor' 'versicolor'\n",
      " 'versicolor' 'versicolor' 'versicolor' 'versicolor' 'versicolor'\n",
      " 'versicolor' 'versicolor' 'versicolor' 'versicolor' 'versicolor'\n",
      " 'versicolor' 'versicolor' 'versicolor' 'versicolor' 'versicolor'\n",
      " 'versicolor' 'versicolor' 'versicolor' 'versicolor' 'versicolor'\n",
      " 'versicolor' 'versicolor' 'versicolor' 'versicolor' 'versicolor'\n",
      " 'versicolor' 'virginica' 'virginica' 'virginica' 'virginica' 'virginica'\n",
      " 'virginica' 'virginica' 'virginica' 'virginica' 'virginica' 'virginica'\n",
      " 'virginica' 'virginica' 'virginica' 'virginica' 'virginica' 'virginica'\n",
      " 'virginica' 'virginica' 'virginica' 'virginica' 'virginica' 'virginica'\n",
      " 'virginica' 'virginica' 'virginica' 'virginica' 'virginica' 'virginica'\n",
      " 'virginica' 'virginica' 'virginica' 'virginica' 'virginica' 'virginica'\n",
      " 'virginica' 'virginica' 'virginica' 'virginica' 'virginica' 'virginica'\n",
      " 'virginica' 'virginica' 'virginica' 'virginica' 'virginica' 'virginica'\n",
      " 'virginica' 'virginica' 'virginica'] 150\n"
     ]
    }
   ],
   "source": [
    "iris_data = datasets.load_iris()\n",
    "features = [\"Sepal Length\", \"Sepal Width\", \"Petal Length\", \"Petal Width\"]\n",
    "\n",
    "match_targets = np.array([iris_data.target_names[target] for target in iris_data.target]) # match each target name to the respective target index\n",
    "iris_df = pd.DataFrame(iris_data.data, columns=features, index=match_targets)\n",
    "\n",
    "compiled_accurracies = []\n",
    "print(type(iris_df), iris_df.head(10))\n",
    "print(match_targets, len(match_targets))"
   ]
  },
  {
   "cell_type": "code",
   "execution_count": 190,
   "metadata": {
    "tags": []
   },
   "outputs": [],
   "source": [
    "# helper functions here....\n",
    "def addScore(clf: str, test_s: float, train_s: float) -> None:\n",
    "    compiled_accurracies.append({\n",
    "        'clf': clf,\n",
    "        'test_accu': test_s,\n",
    "        'train_accu': train_s\n",
    "    })\n",
    "    return None\n",
    "\n",
    "def implementation_of_score_func(*arrays) -> float: #just for fun implementing the score function for SGD using predict\n",
    "    out = [1 if predict == arrays[-1][i] else 0 for i, predict in enumerate(arrays[0])]\n",
    "    return out.count(1) / len(out)"
   ]
  },
  {
   "cell_type": "code",
   "execution_count": 191,
   "metadata": {
    "tags": []
   },
   "outputs": [
    {
     "name": "stdout",
     "output_type": "stream",
     "text": [
      "<class 'pandas.core.frame.DataFrame'>             Sepal Length  Sepal Width\n",
      "setosa               5.1          3.5\n",
      "setosa               5.4          3.7\n",
      "setosa               5.4          3.4\n",
      "setosa               4.8          3.1\n",
      "setosa               5.0          3.5\n",
      "versicolor           7.0          3.2\n",
      "versicolor           5.0          2.0\n",
      "versicolor           5.9          3.2\n",
      "versicolor           5.5          2.4\n",
      "versicolor           5.5          2.6\n",
      "virginica            6.3          3.3\n",
      "virginica            6.5          3.2\n",
      "virginica            6.9          3.2\n",
      "virginica            7.4          2.8\n",
      "virginica            6.7          3.1\n"
     ]
    }
   ],
   "source": [
    "sep_feats = iris_df[['Sepal Length', 'Sepal Width']] # plot this\n",
    "print(type(sep_feats), sep_feats[::10])"
   ]
  },
  {
   "cell_type": "code",
   "execution_count": 192,
   "metadata": {
    "tags": []
   },
   "outputs": [],
   "source": [
    "X_train,X_test,y_train,y_test = train_test_split(sep_feats, match_targets, test_size=0.2, random_state=805)"
   ]
  },
  {
   "cell_type": "code",
   "execution_count": 193,
   "metadata": {
    "scrolled": true,
    "tags": []
   },
   "outputs": [
    {
     "name": "stdout",
     "output_type": "stream",
     "text": [
      "(120, 2)             Sepal Length  Sepal Width\n",
      "versicolor           4.9          2.4\n",
      "virginica            6.8          3.2\n",
      "setosa               5.1          3.5\n",
      "setosa               5.3          3.7\n",
      "virginica            6.0          3.0\n",
      "setosa               4.9          3.6\n",
      "setosa               4.7          3.2\n",
      "virginica            6.7          3.0\n",
      "versicolor           5.6          3.0\n",
      "setosa               5.1          3.8\n",
      "versicolor           6.8          2.8\n",
      "virginica            4.9          2.5\n",
      "versicolor           6.4          2.9\n",
      "virginica            6.5          3.0\n",
      "virginica            5.7          2.5\n",
      "virginica            7.1          3.0\n",
      "setosa               5.2          3.4\n",
      "versicolor           6.3          2.3\n",
      "versicolor           5.8          2.7\n",
      "virginica            6.9          3.1\n",
      "virginica            7.3          2.9\n",
      "versicolor           5.0          2.0\n",
      "setosa               4.6          3.1\n",
      "versicolor           5.7          2.9 \n",
      "\n",
      "Training features\n",
      "\n",
      "\n",
      "(120,) ['versicolor' 'virginica' 'setosa' 'setosa' 'virginica' 'setosa' 'setosa'\n",
      " 'virginica' 'versicolor' 'setosa' 'versicolor' 'virginica' 'versicolor'\n",
      " 'virginica' 'virginica' 'virginica' 'setosa' 'versicolor' 'versicolor'\n",
      " 'virginica' 'virginica' 'versicolor' 'setosa' 'versicolor'] \n",
      "\n",
      "Training labels\n"
     ]
    }
   ],
   "source": [
    "print(X_train.shape, X_train[::5], '\\n\\nTraining features\\n\\n') # plot this\n",
    "print(y_train.shape, y_train[::5], '\\n\\nTraining labels')"
   ]
  },
  {
   "cell_type": "code",
   "execution_count": 194,
   "metadata": {
    "scrolled": true,
    "tags": []
   },
   "outputs": [
    {
     "name": "stdout",
     "output_type": "stream",
     "text": [
      "(30, 2)             Sepal Length  Sepal Width\n",
      "versicolor           5.6          2.7\n",
      "versicolor           6.6          3.0\n",
      "setosa               4.4          2.9\n",
      "versicolor           5.5          2.6\n",
      "virginica            7.7          3.8\n",
      "setosa               5.4          3.9\n",
      "setosa               5.1          3.8\n",
      "virginica            7.2          3.2\n",
      "setosa               5.7          4.4\n",
      "setosa               5.1          3.7\n",
      "versicolor           5.8          2.7\n",
      "virginica            7.2          3.6\n",
      "virginica            6.4          2.7\n",
      "setosa               5.0          3.6\n",
      "virginica            7.4          2.8 \n",
      "\n",
      "Training features\n",
      "\n",
      "\n",
      "(30,) ['versicolor' 'versicolor' 'setosa' 'versicolor' 'virginica' 'setosa'\n",
      " 'setosa' 'virginica' 'setosa' 'setosa' 'versicolor' 'virginica'\n",
      " 'virginica' 'setosa' 'virginica'] \n",
      "\n",
      "Training labels\n"
     ]
    }
   ],
   "source": [
    "print(X_test.shape, X_test[::2], '\\n\\nTraining features\\n\\n') # plot this\n",
    "print(y_test.shape, y_test[::2], '\\n\\nTraining labels')"
   ]
  },
  {
   "cell_type": "code",
   "execution_count": 195,
   "metadata": {
    "tags": []
   },
   "outputs": [
    {
     "name": "stdout",
     "output_type": "stream",
     "text": [
      "0.7166666666666667\n",
      "0.7\n",
      "Testing 70.0\n",
      "Training: 71.7\n"
     ]
    }
   ],
   "source": [
    "#SGD with hinge loss function\n",
    "clf_hinge = SGDClassifier(loss=\"hinge\", tol=1e-4, random_state=0)\n",
    "clf_hinge = clf_hinge.fit(X_train, y_train)\n",
    "\n",
    "\n",
    "print(accuracy_score(y_train, clf_hinge.predict(X_train)))\n",
    "print(accuracy_score(y_test, clf_hinge.predict(X_test)))\n",
    "print(f'Testing {round(clf_hinge.score(X_test, y_test), 3) * 100}\\nTraining: {round(clf_hinge.score(X_train, y_train), 3) * 100}')\n",
    "\n",
    "addScore('SGD_hinge', round(clf_hinge.score(X_test, y_test), 3) * 100, round(clf_hinge.score(X_train, y_train), 3) * 100)"
   ]
  },
  {
   "cell_type": "code",
   "execution_count": 196,
   "metadata": {
    "tags": []
   },
   "outputs": [
    {
     "name": "stdout",
     "output_type": "stream",
     "text": [
      "0.5583333333333333\n",
      "0.6666666666666666\n",
      "Testing 66.7\n",
      "Training: 55.800000000000004\n"
     ]
    }
   ],
   "source": [
    "#SGD with modified huber loss function\n",
    "clf_mod_huber = SGDClassifier(loss=\"modified_huber\", tol=1e-4, random_state=0)\n",
    "clf_mod_huber = clf_mod_huber.fit(X_train, y_train)\n",
    "\n",
    "print(accuracy_score(y_train, clf_mod_huber.predict(X_train)))\n",
    "print(accuracy_score(y_test, clf_mod_huber.predict(X_test)))\n",
    "print(f'Testing {round(clf_mod_huber.score(X_test, y_test), 3) * 100}\\nTraining: {round(clf_mod_huber.score(X_train, y_train), 3) * 100}')\n",
    "\n",
    "addScore('SGD_mod_huber', round(clf_mod_huber.score(X_test, y_test), 3), round(clf_mod_huber.score(X_train, y_train), 3) * 100)"
   ]
  },
  {
   "cell_type": "code",
   "execution_count": 197,
   "metadata": {},
   "outputs": [
    {
     "name": "stdout",
     "output_type": "stream",
     "text": [
      "0.825\n",
      "0.7333333333333333\n",
      "Testing 73.3\n",
      "Training: 82.5\n"
     ]
    }
   ],
   "source": [
    "logist_clf = LogisticRegression(penalty='l2', solver='newton-cg', random_state=0)\n",
    "logist_clf = logist_clf.fit(X_train, y_train)\n",
    "\n",
    "print(accuracy_score(y_train, logist_clf.predict(X_train)))\n",
    "print(accuracy_score(y_test, logist_clf.predict(X_test)))\n",
    "print(f'Testing {round(logist_clf.score(X_test, y_test), 3) * 100}\\nTraining: {round(logist_clf.score(X_train, y_train), 3) * 100}')\n",
    "\n",
    "addScore('Logistic Regression', round(logist_clf.score(X_test, y_test), 3), round(logist_clf.score(X_train, y_train), 3) * 100)"
   ]
  },
  {
   "cell_type": "code",
   "execution_count": 198,
   "metadata": {},
   "outputs": [
    {
     "name": "stdout",
     "output_type": "stream",
     "text": [
      "[{'clf': 'SGD_hinge', 'test_accu': 70.0, 'train_accu': 71.7}, {'clf': 'SGD_mod_huber', 'test_accu': 0.667, 'train_accu': 55.800000000000004}, {'clf': 'Logistic Regression', 'test_accu': 0.733, 'train_accu': 82.5}]\n"
     ]
    }
   ],
   "source": [
    "print(compiled_accurracies)"
   ]
  },
  {
   "cell_type": "code",
   "execution_count": 199,
   "metadata": {},
   "outputs": [
    {
     "name": "stdout",
     "output_type": "stream",
     "text": [
      "0.8333333333333334\n",
      "0.7666666666666667\n",
      "Testing 76.7\n",
      "Training: 83.3\n"
     ]
    }
   ],
   "source": [
    "SVM_linker_clf = SVC(kernel='linear')\n",
    "SVM_linker_clf = SVM_linker_clf.fit(X_train, y_train)\n",
    "\n",
    "print(accuracy_score(y_train, SVM_linker_clf.predict(X_train)))\n",
    "print(accuracy_score(y_test, SVM_linker_clf.predict(X_test)))\n",
    "print(f'Testing {round(SVM_linker_clf.score(X_test, y_test), 3) * 100}\\nTraining: {round(SVM_linker_clf.score(X_train, y_train), 3) * 100}')\n",
    "\n",
    "addScore('SVM_linker_clf', round(SVM_linker_clf.score(X_test, y_test), 3), round(SVM_linker_clf.score(X_train, y_train), 3) * 100)"
   ]
  },
  {
   "cell_type": "code",
   "execution_count": 200,
   "metadata": {},
   "outputs": [
    {
     "name": "stdout",
     "output_type": "stream",
     "text": [
      "0.8333333333333334\n",
      "0.7333333333333333\n",
      "Testing 73.3\n",
      "Training: 83.3\n"
     ]
    },
    {
     "data": {
      "text/plain": [
       "{'C': 1.0,\n",
       " 'break_ties': False,\n",
       " 'cache_size': 200,\n",
       " 'class_weight': None,\n",
       " 'coef0': 0.0,\n",
       " 'decision_function_shape': 'ovr',\n",
       " 'degree': 3,\n",
       " 'gamma': 'auto',\n",
       " 'kernel': 'rbf',\n",
       " 'max_iter': -1,\n",
       " 'probability': False,\n",
       " 'random_state': None,\n",
       " 'shrinking': True,\n",
       " 'tol': 0.001,\n",
       " 'verbose': False}"
      ]
     },
     "execution_count": 200,
     "metadata": {},
     "output_type": "execute_result"
    }
   ],
   "source": [
    "SVM_rbfker= SVC(kernel='rbf', gamma='auto') #gamma of auto allows it to use a 1 / n_features\n",
    "SVM_rbfker = SVM_rbfker.fit(X_train, y_train)\n",
    "\n",
    "print(accuracy_score(y_train, SVM_rbfker.predict(X_train)))\n",
    "print(accuracy_score(y_test, SVM_rbfker.predict(X_test)))\n",
    "print(f'Testing {round(SVM_rbfker.score(X_test, y_test), 3) * 100}\\nTraining: {round(SVM_rbfker.score(X_train, y_train), 3) * 100}')\n",
    "\n",
    "addScore('SVM_rbfker', round(SVM_rbfker.score(X_test, y_test), 3), round(SVM_rbfker.score(X_train, y_train), 3) * 100)\n",
    "SVM_rbfker.get_params()"
   ]
  },
  {
   "cell_type": "code",
   "execution_count": 201,
   "metadata": {
    "scrolled": true
   },
   "outputs": [
    {
     "name": "stdout",
     "output_type": "stream",
     "text": [
      "0.9333333333333333\n",
      "0.7333333333333333\n",
      "Testing 73.3\n",
      "Training: 93.30000000000001\n"
     ]
    },
    {
     "data": {
      "text/plain": [
       "{'ccp_alpha': 0.0,\n",
       " 'class_weight': None,\n",
       " 'criterion': 'gini',\n",
       " 'max_depth': None,\n",
       " 'max_features': None,\n",
       " 'max_leaf_nodes': None,\n",
       " 'min_impurity_decrease': 0.0,\n",
       " 'min_samples_leaf': 1,\n",
       " 'min_samples_split': 2,\n",
       " 'min_weight_fraction_leaf': 0.0,\n",
       " 'monotonic_cst': None,\n",
       " 'random_state': None,\n",
       " 'splitter': 'best'}"
      ]
     },
     "execution_count": 201,
     "metadata": {},
     "output_type": "execute_result"
    }
   ],
   "source": [
    "dec_tree_clf = DecisionTreeClassifier(criterion='gini')\n",
    "dec_tree_clf = dec_tree_clf.fit(X_train, y_train)\n",
    "\n",
    "print(accuracy_score(y_train, dec_tree_clf.predict(X_train)))\n",
    "print(accuracy_score(y_test, dec_tree_clf.predict(X_test)))\n",
    "print(f'Testing {round(SVM_rbfker.score(X_test, y_test), 3) * 100}\\nTraining: {round(dec_tree_clf.score(X_train, y_train), 3) * 100}')\n",
    "\n",
    "addScore('dec_tree_clf', round(dec_tree_clf.score(X_test, y_test), 3), round(dec_tree_clf.score(X_train, y_train), 3) * 100)\n",
    "dec_tree_clf.get_params()"
   ]
  },
  {
   "cell_type": "code",
   "execution_count": 202,
   "metadata": {},
   "outputs": [
    {
     "name": "stdout",
     "output_type": "stream",
     "text": [
      "0.9333333333333333\n",
      "0.7333333333333333\n",
      "Testing 73.3\n",
      "Training: 93.30000000000001\n"
     ]
    },
    {
     "data": {
      "text/plain": [
       "{'bootstrap': True,\n",
       " 'ccp_alpha': 0.0,\n",
       " 'class_weight': None,\n",
       " 'criterion': 'log_loss',\n",
       " 'max_depth': None,\n",
       " 'max_features': 'sqrt',\n",
       " 'max_leaf_nodes': None,\n",
       " 'max_samples': None,\n",
       " 'min_impurity_decrease': 0.0,\n",
       " 'min_samples_leaf': 1,\n",
       " 'min_samples_split': 2,\n",
       " 'min_weight_fraction_leaf': 0.0,\n",
       " 'monotonic_cst': None,\n",
       " 'n_estimators': 200,\n",
       " 'n_jobs': None,\n",
       " 'oob_score': False,\n",
       " 'random_state': None,\n",
       " 'verbose': 0,\n",
       " 'warm_start': False}"
      ]
     },
     "execution_count": 202,
     "metadata": {},
     "output_type": "execute_result"
    }
   ],
   "source": [
    "rf_clf = RandomForestClassifier(criterion='log_loss', n_estimators=200).fit(X_train, y_train)\n",
    "\n",
    "print(accuracy_score(y_train, rf_clf.predict(X_train)))\n",
    "print(accuracy_score(y_test, rf_clf.predict(X_test)))\n",
    "print(f'Testing {round(rf_clf.score(X_test, y_test), 3) * 100}\\nTraining: {round(rf_clf.score(X_train, y_train), 3) * 100}')\n",
    "\n",
    "addScore('rf_clf', round(rf_clf.score(X_test, y_test), 3), round(rf_clf.score(X_train, y_train), 3) * 100)\n",
    "rf_clf.get_params()"
   ]
  },
  {
   "cell_type": "code",
   "execution_count": 203,
   "metadata": {},
   "outputs": [
    {
     "name": "stdout",
     "output_type": "stream",
     "text": [
      "0.8083333333333333\n",
      "0.7666666666666667\n",
      "Testing 76.7\n",
      "Training: 80.80000000000001\n"
     ]
    },
    {
     "data": {
      "text/plain": [
       "{'algorithm': 'auto',\n",
       " 'leaf_size': 30,\n",
       " 'metric': 'minkowski',\n",
       " 'metric_params': None,\n",
       " 'n_jobs': None,\n",
       " 'n_neighbors': 47,\n",
       " 'p': 2,\n",
       " 'weights': 'uniform'}"
      ]
     },
     "execution_count": 203,
     "metadata": {},
     "output_type": "execute_result"
    }
   ],
   "source": [
    "knn_clf_k47 = KNeighborsClassifier(n_neighbors=47).fit(X_train, y_train)\n",
    "\n",
    "print(accuracy_score(y_train, knn_clf_k47.predict(X_train)))\n",
    "print(accuracy_score(y_test, knn_clf_k47.predict(X_test)))\n",
    "print(f'Testing {round(knn_clf_k47.score(X_test, y_test), 3) * 100}\\nTraining: {round(knn_clf_k47.score(X_train, y_train), 3) * 100}')\n",
    "\n",
    "addScore('knn_clf_k47', round(knn_clf_k47.score(X_test, y_test), 3), round(knn_clf_k47.score(X_train, y_train), 3) * 100)\n",
    "knn_clf_k47.get_params()"
   ]
  },
  {
   "cell_type": "code",
   "execution_count": 204,
   "metadata": {},
   "outputs": [
    {
     "name": "stdout",
     "output_type": "stream",
     "text": [
      "0.8416666666666667\n",
      "0.7666666666666667\n",
      "Testing 76.7\n",
      "Training: 84.2\n"
     ]
    },
    {
     "data": {
      "text/plain": [
       "{'algorithm': 'auto',\n",
       " 'leaf_size': 30,\n",
       " 'metric': 'minkowski',\n",
       " 'metric_params': None,\n",
       " 'n_jobs': None,\n",
       " 'n_neighbors': 3,\n",
       " 'p': 2,\n",
       " 'weights': 'uniform'}"
      ]
     },
     "execution_count": 204,
     "metadata": {},
     "output_type": "execute_result"
    }
   ],
   "source": [
    "knn_clf_k3 = KNeighborsClassifier(n_neighbors=3).fit(X_train, y_train)\n",
    "\n",
    "print(accuracy_score(y_train, knn_clf_k3.predict(X_train)))\n",
    "print(accuracy_score(y_test, knn_clf_k3.predict(X_test)))\n",
    "print(f'Testing {round(knn_clf_k3.score(X_test, y_test), 3) * 100}\\nTraining: {round(knn_clf_k3.score(X_train, y_train), 3) * 100}')\n",
    "\n",
    "addScore('knn_clf_k3', round(knn_clf_k3.score(X_test, y_test), 3), round(knn_clf_k3.score(X_train, y_train), 3) * 100)\n",
    "knn_clf_k3.get_params()"
   ]
  },
  {
   "cell_type": "code",
   "execution_count": 206,
   "metadata": {},
   "outputs": [
    {
     "name": "stdout",
     "output_type": "stream",
     "text": [
      "[{'clf': 'SGD_hinge', 'test_accu': 70.0, 'train_accu': 71.7}, {'clf': 'SGD_mod_huber', 'test_accu': 0.667, 'train_accu': 55.800000000000004}, {'clf': 'Logistic Regression', 'test_accu': 0.733, 'train_accu': 82.5}, {'clf': 'SVM_linker_clf', 'test_accu': 0.767, 'train_accu': 83.3}, {'clf': 'SVM_rbfker', 'test_accu': 0.733, 'train_accu': 83.3}, {'clf': 'dec_tree_clf', 'test_accu': 0.733, 'train_accu': 93.30000000000001}, {'clf': 'rf_clf', 'test_accu': 0.733, 'train_accu': 93.30000000000001}, {'clf': 'knn_clf_k47', 'test_accu': 0.767, 'train_accu': 80.80000000000001}, {'clf': 'knn_clf_k3', 'test_accu': 0.767, 'train_accu': 84.2}]\n",
      "9\n"
     ]
    }
   ],
   "source": [
    "print(compiled_accurracies)\n",
    "print(len(compiled_accurracies))"
   ]
  },
  {
   "cell_type": "code",
   "execution_count": null,
   "metadata": {},
   "outputs": [],
   "source": []
  },
  {
   "cell_type": "code",
   "execution_count": null,
   "metadata": {},
   "outputs": [],
   "source": []
  },
  {
   "cell_type": "code",
   "execution_count": null,
   "metadata": {},
   "outputs": [],
   "source": []
  },
  {
   "cell_type": "code",
   "execution_count": null,
   "metadata": {},
   "outputs": [],
   "source": []
  },
  {
   "cell_type": "markdown",
   "metadata": {},
   "source": [
    "# Discussion\n",
    "\n",
    "## Large Delta of two feature classifications when using Perceptron loss function\n",
    "* Choosing two distinct sets of features it was observed that the loss functions effect on the classifying the data drastically changed as observed in the 'Scores across the various # of features' it can be seen that when we compare the accurracy of the perceptron loss function on the two different sets of features this was where the greatest disparity was seen. When now reflecting on the plot featuring the decision regions of the respective classes we see that for the set consisting of the features 'Petal Width, Sepal Width' there was a gross misclassification for the Versicolor class where the plotted training points extend into the decision regions--not to be confused with the hyperplane--of both setosa and virginica. Now comparing this classification plot to that of the set with 'Petal Width, Petal Length' it can be observed that the higher score of the classification is due to the more accurate split of the decision regions where the training data--while still not completely linearly seperable. This delta between the two further shows the effect that linearly inseperable data has on the percetron loss function and thus the classifier as a whole.\n",
    "\n",
    "## Accurracy Across the chosen combination of features...\n",
    "* When looking across all of the features in the plot 'Scores across the various combination of features' tt is also noted that using the perceptron loss function on the three-feature combination as well as the two distinct two-feature combinations resulted in the lowest accuracy score, however, the four-feature combination exhibited the second highest accuracy score with the perceptron loss function. The highest accuracy score recorded using the four loss functions for the ‘Sepal Width, Petal Width’ two-feature and four-feature combination was using the hinge loss function meanwhile for the ‘Petal Width, Petal Length’ and the three-feature loss function the highest accuracy score was recorded with the squared hinge loss function. \n",
    "\n",
    "* Inclusively the 'Petal Width, Sepal Width' two-feature combination exhibited similar deltas in accurracy and even slightly converged on the loss function that resulted in the highest accuracy score for both--squared hinge--this could have possibly been due to the similarity in the distribution of the training data, when observing the 'loss function: squared_hinge with score 0.933' from the 3D plot of the three feature classification combination and the 'loss function: squared_hinge with score 0.933' in 2D featuring the 'Petal Width, Sepal Width' two-feature combination it can be observed that the distribution of the three species is quite similar with the setosa class being linearly seperable from the other two class meanwhile versicolor and virginica are not linearly seperable.\n",
    "\n",
    "\n",
    "\n",
    "\n",
    "\n",
    "\n",
    "\n"
   ]
  },
  {
   "cell_type": "code",
   "execution_count": null,
   "metadata": {},
   "outputs": [],
   "source": []
  }
 ],
 "metadata": {
  "kernelspec": {
   "display_name": "Python 3 (ipykernel)",
   "language": "python",
   "name": "python3"
  },
  "language_info": {
   "codemirror_mode": {
    "name": "ipython",
    "version": 3
   },
   "file_extension": ".py",
   "mimetype": "text/x-python",
   "name": "python",
   "nbconvert_exporter": "python",
   "pygments_lexer": "ipython3",
   "version": "3.12.1"
  },
  "vscode": {
   "interpreter": {
    "hash": "aee8b7b246df8f9039afb4144a1f6fd8d2ca17a180786b69acc140d282b71a49"
   }
  },
  "widgets": {
   "application/vnd.jupyter.widget-state+json": {
    "state": {},
    "version_major": 2,
    "version_minor": 0
   }
  }
 },
 "nbformat": 4,
 "nbformat_minor": 4
}
