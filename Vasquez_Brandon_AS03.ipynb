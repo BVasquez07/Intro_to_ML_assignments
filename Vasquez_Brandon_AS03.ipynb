{
 "cells": [
  {
   "cell_type": "markdown",
   "metadata": {},
   "source": [
    "# Brandon Vasquez\n",
    "\n",
    "### The following work was done without collaboration from other peers within the class but with aid from the SciKit library documentation page for the various methods, variables, and functions used.\n",
    "\n",
    "## Sources used (among the documentation of the various libraries included):\n",
    "* [Plot multi-class SGD on the iris dataset from SciKit Documentation](https://scikit-learn.org/stable/auto_examples/linear_model/plot_sgd_iris.html)\n",
    "* [Basically what we have to do...but for the SVM classifier](https://scikit-learn.org/stable/auto_examples/svm/plot_iris_svc.html)\n",
    "\n"
   ]
  },
  {
   "cell_type": "code",
   "execution_count": 111,
   "metadata": {},
   "outputs": [],
   "source": [
    "from sklearn import datasets, svm\n",
    "from sklearn.linear_model import SGDClassifier, LogisticRegression\n",
    "from sklearn.inspection import DecisionBoundaryDisplay\n",
    "from sklearn.model_selection import train_test_split\n",
    "from sklearn.tree import DecisionTreeClassifier\n",
    "from sklearn.ensemble import RandomForestClassifier\n",
    "from sklearn.neighbors import KNeighborsClassifier\n",
    "import numpy as np\n",
    "import pandas as pd\n",
    "import matplotlib.pyplot as plt\n",
    "from pathlib import Path"
   ]
  },
  {
   "cell_type": "code",
   "execution_count": 112,
   "metadata": {},
   "outputs": [
    {
     "name": "stdout",
     "output_type": "stream",
     "text": [
      "<class 'pandas.core.frame.DataFrame'>         Sepal Length  Sepal Width  Petal Length  Petal Width\n",
      "setosa           5.1          3.5           1.4          0.2\n",
      "setosa           4.9          3.0           1.4          0.2\n",
      "setosa           4.7          3.2           1.3          0.2\n",
      "setosa           4.6          3.1           1.5          0.2\n",
      "setosa           5.0          3.6           1.4          0.2\n",
      "setosa           5.4          3.9           1.7          0.4\n",
      "setosa           4.6          3.4           1.4          0.3\n",
      "setosa           5.0          3.4           1.5          0.2\n",
      "setosa           4.4          2.9           1.4          0.2\n",
      "setosa           4.9          3.1           1.5          0.1\n",
      "['setosa' 'setosa' 'setosa' 'setosa' 'setosa' 'setosa' 'setosa' 'setosa'\n",
      " 'setosa' 'setosa' 'setosa' 'setosa' 'setosa' 'setosa' 'setosa' 'setosa'\n",
      " 'setosa' 'setosa' 'setosa' 'setosa' 'setosa' 'setosa' 'setosa' 'setosa'\n",
      " 'setosa' 'setosa' 'setosa' 'setosa' 'setosa' 'setosa' 'setosa' 'setosa'\n",
      " 'setosa' 'setosa' 'setosa' 'setosa' 'setosa' 'setosa' 'setosa' 'setosa'\n",
      " 'setosa' 'setosa' 'setosa' 'setosa' 'setosa' 'setosa' 'setosa' 'setosa'\n",
      " 'setosa' 'setosa' 'versicolor' 'versicolor' 'versicolor' 'versicolor'\n",
      " 'versicolor' 'versicolor' 'versicolor' 'versicolor' 'versicolor'\n",
      " 'versicolor' 'versicolor' 'versicolor' 'versicolor' 'versicolor'\n",
      " 'versicolor' 'versicolor' 'versicolor' 'versicolor' 'versicolor'\n",
      " 'versicolor' 'versicolor' 'versicolor' 'versicolor' 'versicolor'\n",
      " 'versicolor' 'versicolor' 'versicolor' 'versicolor' 'versicolor'\n",
      " 'versicolor' 'versicolor' 'versicolor' 'versicolor' 'versicolor'\n",
      " 'versicolor' 'versicolor' 'versicolor' 'versicolor' 'versicolor'\n",
      " 'versicolor' 'versicolor' 'versicolor' 'versicolor' 'versicolor'\n",
      " 'versicolor' 'versicolor' 'versicolor' 'versicolor' 'versicolor'\n",
      " 'versicolor' 'virginica' 'virginica' 'virginica' 'virginica' 'virginica'\n",
      " 'virginica' 'virginica' 'virginica' 'virginica' 'virginica' 'virginica'\n",
      " 'virginica' 'virginica' 'virginica' 'virginica' 'virginica' 'virginica'\n",
      " 'virginica' 'virginica' 'virginica' 'virginica' 'virginica' 'virginica'\n",
      " 'virginica' 'virginica' 'virginica' 'virginica' 'virginica' 'virginica'\n",
      " 'virginica' 'virginica' 'virginica' 'virginica' 'virginica' 'virginica'\n",
      " 'virginica' 'virginica' 'virginica' 'virginica' 'virginica' 'virginica'\n",
      " 'virginica' 'virginica' 'virginica' 'virginica' 'virginica' 'virginica'\n",
      " 'virginica' 'virginica' 'virginica'] 150\n"
     ]
    }
   ],
   "source": [
    "iris_data = datasets.load_iris()\n",
    "features = [\"Sepal Length\", \"Sepal Width\", \"Petal Length\", \"Petal Width\"]\n",
    "\n",
    "match_targets = np.array([iris_data.target_names[target] for target in iris_data.target]) # match each target name to the respective target index\n",
    "iris_df = pd.DataFrame(iris_data.data, columns=features, index=match_targets)\n",
    "\n",
    "compiled_accurracies = []\n",
    "print(type(iris_df), iris_df.head(10))\n",
    "print(match_targets, len(match_targets))"
   ]
  },
  {
   "cell_type": "code",
   "execution_count": 113,
   "metadata": {},
   "outputs": [],
   "source": [
    "# helper functions here....\n",
    "def addScore(clf: str, score: float) -> None:\n",
    "    compiled_accurracies.append({\n",
    "        'clf': clf,\n",
    "        'score': score\n",
    "    })\n",
    "    return None\n",
    "\n",
    "def implementation_of_score_func(*arrays) -> float: #just for fun implementing the score function for SGD using predict\n",
    "    out = [1 if pre == arrays[-1][i] else 0 for i, pre in enumerate(arrays[0])]\n",
    "    return out.count(1) / len(out)"
   ]
  },
  {
   "cell_type": "code",
   "execution_count": 114,
   "metadata": {},
   "outputs": [
    {
     "name": "stdout",
     "output_type": "stream",
     "text": [
      "<class 'pandas.core.frame.DataFrame'>             Sepal Length  Sepal Width\n",
      "setosa               5.1          3.5\n",
      "setosa               5.4          3.7\n",
      "setosa               5.4          3.4\n",
      "setosa               4.8          3.1\n",
      "setosa               5.0          3.5\n",
      "versicolor           7.0          3.2\n",
      "versicolor           5.0          2.0\n",
      "versicolor           5.9          3.2\n",
      "versicolor           5.5          2.4\n",
      "versicolor           5.5          2.6\n",
      "virginica            6.3          3.3\n",
      "virginica            6.5          3.2\n",
      "virginica            6.9          3.2\n",
      "virginica            7.4          2.8\n",
      "virginica            6.7          3.1\n"
     ]
    }
   ],
   "source": [
    "sep_feats = iris_df[['Sepal Length', 'Sepal Width']] # plot this\n",
    "print(type(sep_feats), sep_feats[::10])"
   ]
  },
  {
   "cell_type": "code",
   "execution_count": 115,
   "metadata": {},
   "outputs": [],
   "source": [
    "X_train,X_test,y_train,y_test = train_test_split(sep_feats, match_targets, test_size=0.2, random_state=805)"
   ]
  },
  {
   "cell_type": "code",
   "execution_count": 116,
   "metadata": {
    "scrolled": true
   },
   "outputs": [
    {
     "name": "stdout",
     "output_type": "stream",
     "text": [
      "(120, 2)             Sepal Length  Sepal Width\n",
      "versicolor           4.9          2.4\n",
      "virginica            6.8          3.2\n",
      "setosa               5.1          3.5\n",
      "setosa               5.3          3.7\n",
      "virginica            6.0          3.0\n",
      "setosa               4.9          3.6\n",
      "setosa               4.7          3.2\n",
      "virginica            6.7          3.0\n",
      "versicolor           5.6          3.0\n",
      "setosa               5.1          3.8\n",
      "versicolor           6.8          2.8\n",
      "virginica            4.9          2.5\n",
      "versicolor           6.4          2.9\n",
      "virginica            6.5          3.0\n",
      "virginica            5.7          2.5\n",
      "virginica            7.1          3.0\n",
      "setosa               5.2          3.4\n",
      "versicolor           6.3          2.3\n",
      "versicolor           5.8          2.7\n",
      "virginica            6.9          3.1\n",
      "virginica            7.3          2.9\n",
      "versicolor           5.0          2.0\n",
      "setosa               4.6          3.1\n",
      "versicolor           5.7          2.9 \n",
      "\n",
      "Training features\n",
      "\n",
      "\n",
      "(120,) ['versicolor' 'virginica' 'setosa' 'setosa' 'virginica' 'setosa' 'setosa'\n",
      " 'virginica' 'versicolor' 'setosa' 'versicolor' 'virginica' 'versicolor'\n",
      " 'virginica' 'virginica' 'virginica' 'setosa' 'versicolor' 'versicolor'\n",
      " 'virginica' 'virginica' 'versicolor' 'setosa' 'versicolor'] \n",
      "\n",
      "Training labels\n"
     ]
    }
   ],
   "source": [
    "print(X_train.shape, X_train[::5], '\\n\\nTraining features\\n\\n') # plot this\n",
    "print(y_train.shape, y_train[::5], '\\n\\nTraining labels')"
   ]
  },
  {
   "cell_type": "code",
   "execution_count": 117,
   "metadata": {
    "scrolled": true
   },
   "outputs": [
    {
     "name": "stdout",
     "output_type": "stream",
     "text": [
      "(30, 2)             Sepal Length  Sepal Width\n",
      "versicolor           5.6          2.7\n",
      "versicolor           6.6          3.0\n",
      "setosa               4.4          2.9\n",
      "versicolor           5.5          2.6\n",
      "virginica            7.7          3.8\n",
      "setosa               5.4          3.9\n",
      "setosa               5.1          3.8\n",
      "virginica            7.2          3.2\n",
      "setosa               5.7          4.4\n",
      "setosa               5.1          3.7\n",
      "versicolor           5.8          2.7\n",
      "virginica            7.2          3.6\n",
      "virginica            6.4          2.7\n",
      "setosa               5.0          3.6\n",
      "virginica            7.4          2.8 \n",
      "\n",
      "Training features\n",
      "\n",
      "\n",
      "(30,) ['versicolor' 'versicolor' 'setosa' 'versicolor' 'virginica' 'setosa'\n",
      " 'setosa' 'virginica' 'setosa' 'setosa' 'versicolor' 'virginica'\n",
      " 'virginica' 'setosa' 'virginica'] \n",
      "\n",
      "Training labels\n"
     ]
    }
   ],
   "source": [
    "print(X_test.shape, X_test[::2], '\\n\\nTraining features\\n\\n') # plot this\n",
    "print(y_test.shape, y_test[::2], '\\n\\nTraining labels')"
   ]
  },
  {
   "cell_type": "code",
   "execution_count": 118,
   "metadata": {},
   "outputs": [
    {
     "name": "stdout",
     "output_type": "stream",
     "text": [
      "0.7\n",
      "0.7\n",
      "It is False that the built-in score and implemented version are equal\n"
     ]
    }
   ],
   "source": [
    "#SGD with hinge loss function\n",
    "clf_hinge = SGDClassifier(loss=\"hinge\", tol=1e-4, random_state=0)\n",
    "clf_hinge.fit(X_train, y_train)\n",
    "score = clf_hinge.score(X_test, y_test)\n",
    "addScore('SGD_hinge', score)\n",
    "print(score)\n",
    "\n",
    "\n",
    "print(implementation_of_score_func(clf_hinge.predict(X_test), y_test))\n",
    "print(f'It is {implementation_of_score_func(predict, y_test) == score} that the built-in score and implemented version are equal')"
   ]
  },
  {
   "cell_type": "code",
   "execution_count": 119,
   "metadata": {},
   "outputs": [
    {
     "name": "stdout",
     "output_type": "stream",
     "text": [
      "0.6666666666666666\n",
      "0.6666666666666666\n",
      "It is True that the built-in score and implemented version are equal\n"
     ]
    }
   ],
   "source": [
    "#SGD with modified huber loss function\n",
    "clf_mod_huber = SGDClassifier(loss=\"modified_huber\", tol=1e-4, random_state=0)\n",
    "clf_mod_huber.fit(X_train, y_train)\n",
    "score = clf_mod_huber.score(X_test, y_test)\n",
    "addScore('SGD_mod_huber', score)\n",
    "print(score)\n",
    "\n",
    "print(implementation_of_score_func(clf_mod_huber.predict(X_test), y_test))\n",
    "print(f'It is {implementation_of_score_func(predict, y_test) == score} that the built-in score and implemented version are equal')"
   ]
  },
  {
   "cell_type": "code",
   "execution_count": 120,
   "metadata": {},
   "outputs": [
    {
     "name": "stdout",
     "output_type": "stream",
     "text": [
      "[{'clf': 'SGD_hinge', 'score': 0.7}, {'clf': 'SGD_mod_huber', 'score': 0.6666666666666666}]\n"
     ]
    }
   ],
   "source": [
    "print(compiled_accurracies)"
   ]
  },
  {
   "cell_type": "code",
   "execution_count": null,
   "metadata": {},
   "outputs": [],
   "source": []
  },
  {
   "cell_type": "code",
   "execution_count": null,
   "metadata": {},
   "outputs": [],
   "source": []
  },
  {
   "cell_type": "code",
   "execution_count": null,
   "metadata": {},
   "outputs": [],
   "source": []
  },
  {
   "cell_type": "code",
   "execution_count": null,
   "metadata": {},
   "outputs": [],
   "source": []
  },
  {
   "cell_type": "code",
   "execution_count": null,
   "metadata": {},
   "outputs": [],
   "source": []
  },
  {
   "cell_type": "code",
   "execution_count": null,
   "metadata": {},
   "outputs": [],
   "source": []
  },
  {
   "cell_type": "code",
   "execution_count": null,
   "metadata": {},
   "outputs": [],
   "source": []
  },
  {
   "cell_type": "code",
   "execution_count": null,
   "metadata": {},
   "outputs": [],
   "source": []
  },
  {
   "cell_type": "code",
   "execution_count": null,
   "metadata": {},
   "outputs": [],
   "source": []
  },
  {
   "cell_type": "code",
   "execution_count": null,
   "metadata": {},
   "outputs": [],
   "source": []
  },
  {
   "cell_type": "code",
   "execution_count": null,
   "metadata": {},
   "outputs": [],
   "source": []
  },
  {
   "cell_type": "code",
   "execution_count": null,
   "metadata": {},
   "outputs": [],
   "source": []
  },
  {
   "cell_type": "code",
   "execution_count": null,
   "metadata": {},
   "outputs": [],
   "source": []
  },
  {
   "cell_type": "markdown",
   "metadata": {},
   "source": [
    "# Discussion\n",
    "\n",
    "## Large Delta of two feature classifications when using Perceptron loss function\n",
    "* Choosing two distinct sets of features it was observed that the loss functions effect on the classifying the data drastically changed as observed in the 'Scores across the various # of features' it can be seen that when we compare the accurracy of the perceptron loss function on the two different sets of features this was where the greatest disparity was seen. When now reflecting on the plot featuring the decision regions of the respective classes we see that for the set consisting of the features 'Petal Width, Sepal Width' there was a gross misclassification for the Versicolor class where the plotted training points extend into the decision regions--not to be confused with the hyperplane--of both setosa and virginica. Now comparing this classification plot to that of the set with 'Petal Width, Petal Length' it can be observed that the higher score of the classification is due to the more accurate split of the decision regions where the training data--while still not completely linearly seperable. This delta between the two further shows the effect that linearly inseperable data has on the percetron loss function and thus the classifier as a whole.\n",
    "\n",
    "## Accurracy Across the chosen combination of features...\n",
    "* When looking across all of the features in the plot 'Scores across the various combination of features' tt is also noted that using the perceptron loss function on the three-feature combination as well as the two distinct two-feature combinations resulted in the lowest accuracy score, however, the four-feature combination exhibited the second highest accuracy score with the perceptron loss function. The highest accuracy score recorded using the four loss functions for the ‘Sepal Width, Petal Width’ two-feature and four-feature combination was using the hinge loss function meanwhile for the ‘Petal Width, Petal Length’ and the three-feature loss function the highest accuracy score was recorded with the squared hinge loss function. \n",
    "\n",
    "* Inclusively the 'Petal Width, Sepal Width' two-feature combination exhibited similar deltas in accurracy and even slightly converged on the loss function that resulted in the highest accuracy score for both--squared hinge--this could have possibly been due to the similarity in the distribution of the training data, when observing the 'loss function: squared_hinge with score 0.933' from the 3D plot of the three feature classification combination and the 'loss function: squared_hinge with score 0.933' in 2D featuring the 'Petal Width, Sepal Width' two-feature combination it can be observed that the distribution of the three species is quite similar with the setosa class being linearly seperable from the other two class meanwhile versicolor and virginica are not linearly seperable.\n",
    "\n",
    "\n",
    "\n",
    "\n",
    "\n",
    "\n",
    "\n"
   ]
  },
  {
   "cell_type": "code",
   "execution_count": null,
   "metadata": {},
   "outputs": [],
   "source": []
  }
 ],
 "metadata": {
  "kernelspec": {
   "display_name": "Python 3 (ipykernel)",
   "language": "python",
   "name": "python3"
  },
  "language_info": {
   "codemirror_mode": {
    "name": "ipython",
    "version": 3
   },
   "file_extension": ".py",
   "mimetype": "text/x-python",
   "name": "python",
   "nbconvert_exporter": "python",
   "pygments_lexer": "ipython3",
   "version": "3.12.1"
  },
  "widgets": {
   "application/vnd.jupyter.widget-state+json": {
    "state": {},
    "version_major": 2,
    "version_minor": 0
   }
  }
 },
 "nbformat": 4,
 "nbformat_minor": 4
}
